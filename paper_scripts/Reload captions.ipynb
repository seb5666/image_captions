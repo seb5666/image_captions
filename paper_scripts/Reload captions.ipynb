{
 "cells": [
  {
   "cell_type": "code",
   "execution_count": 1,
   "metadata": {},
   "outputs": [],
   "source": [
    "import numpy as np"
   ]
  },
  {
   "cell_type": "code",
   "execution_count": 6,
   "metadata": {},
   "outputs": [],
   "source": [
    "captions_file = \"../../vote_captions_bigram.backup.pickle\"\n",
    "captions = np.load(captions_file)"
   ]
  },
  {
   "cell_type": "code",
   "execution_count": 8,
   "metadata": {},
   "outputs": [
    {
     "data": {
      "text/plain": [
       "([array([  1,   4, 164,   6, 769,  10,   4, 164,   6, 769,  15,   5,   4,\n",
       "          26,   2]),\n",
       "  array([  1,   4, 164,   6, 769,  15,   5,   4,  26,   2]),\n",
       "  array([  1,   4, 164,   6, 769,  15,   5,  34,   6,   4,  26,   2]),\n",
       "  array([  1,   4, 164,   6, 769,  15,   5,   4, 100,  26,   2]),\n",
       "  array([  1,   4, 164,   6, 769,  27,  11,  15,   5,   4,  26,   2])],\n",
       " [0.00013661629900795327,\n",
       "  0.0029771133116083663,\n",
       "  0.0009937856776175604,\n",
       "  0.0009405587536410049,\n",
       "  0.0009060354150210453])"
      ]
     },
     "execution_count": 8,
     "metadata": {},
     "output_type": "execute_result"
    }
   ],
   "source": [
    "captions[1]"
   ]
  },
  {
   "cell_type": "code",
   "execution_count": null,
   "metadata": {},
   "outputs": [],
   "source": []
  }
 ],
 "metadata": {
  "anaconda-cloud": {},
  "kernelspec": {
   "display_name": "Python [conda env:PDSH]",
   "language": "python",
   "name": "conda-env-PDSH-py"
  },
  "language_info": {
   "codemirror_mode": {
    "name": "ipython",
    "version": 3
   },
   "file_extension": ".py",
   "mimetype": "text/x-python",
   "name": "python",
   "nbconvert_exporter": "python",
   "pygments_lexer": "ipython3",
   "version": "3.5.4"
  },
  "toc": {
   "nav_menu": {},
   "number_sections": true,
   "sideBar": true,
   "skip_h1_title": false,
   "toc_cell": false,
   "toc_position": {},
   "toc_section_display": "block",
   "toc_window_display": false
  }
 },
 "nbformat": 4,
 "nbformat_minor": 1
}
