{
 "cells": [
  {
   "cell_type": "code",
   "execution_count": 15,
   "metadata": {
    "nbpresent": {
     "id": "d3c1477a-770b-4903-8861-9d2f60e1a467"
    }
   },
   "outputs": [],
   "source": [
    "import os\n",
    "from utils import load_caption, decode_caption, load_vocab\n",
    "from tqdm import tqdm\n",
    "import pickle\n",
    "import numpy as np\n",
    "\n",
    "from matplotlib import pyplot as plt\n",
    "%matplotlib inline\n",
    "\n",
    "plt.style.use('ggplot')"
   ]
  },
  {
   "cell_type": "code",
   "execution_count": 16,
   "metadata": {},
   "outputs": [
    {
     "name": "stdout",
     "output_type": "stream",
     "text": [
      "word_to_idx\n",
      "idx_to_word\n",
      "Loaded dictionary...\n",
      "Dictionary size: 5004\n"
     ]
    }
   ],
   "source": [
    "vocab = load_vocab('/home/spb61/coco2014_vocab.json')"
   ]
  },
  {
   "cell_type": "code",
   "execution_count": 4,
   "metadata": {
    "nbpresent": {
     "id": "ce7f4af1-bec5-485c-abab-f95d1f137f63"
    }
   },
   "outputs": [
    {
     "name": "stdout",
     "output_type": "stream",
     "text": [
      "0.0030246086544908823\n"
     ]
    }
   ],
   "source": [
    "cap = load_caption(1, image_dir=\"/datadrive/val_beam_2_states/\")\n",
    "print(cap['total_prob'])"
   ]
  },
  {
   "cell_type": "code",
   "execution_count": 96,
   "metadata": {
    "nbpresent": {
     "id": "542e3243-fd17-41ea-bde3-6626618f24c6"
    }
   },
   "outputs": [],
   "source": [
    "# def total_probs(beam_size=2):\n",
    "#     image_dir = \"/datadrive/val_beam_{}_states/\".format(beam_size)\n",
    "#     total_probs = []\n",
    "#     for image in tqdm(os.listdir(image_dir)):\n",
    "#         cap = load_caption(image, image_dir=image_dir)\n",
    "#         total_probs.append(cap['total_prob'])\n",
    "#         if not image.endswith(\"json\"):\n",
    "#             print(image)\n",
    "#     print(\"Images found: {}\".format(len(total_probs)))\n",
    "#     return total_probs\n",
    "\n",
    "# probs = {}\n",
    "# for k in [1,2,10,100]:\n",
    "#     probs[k] = total_probs(beam_size=k)\n",
    "    \n",
    "# pickle.dump(probs, open( \"probs.pickle\", \"wb\" ) )\n",
    "\n",
    "probs = pickle.load(open( \"probs.pickle\", \"rb\" ))"
   ]
  },
  {
   "cell_type": "code",
   "execution_count": 97,
   "metadata": {},
   "outputs": [
    {
     "name": "stdout",
     "output_type": "stream",
     "text": [
      "Beam size 1: probability covered: 0.0020\t0.0062\n",
      "Beam size 2: probability covered: 0.0038\t0.0079\n",
      "Beam size 10: probability covered: 0.0121\t0.0158\n",
      "Beam size 100: probability covered: 0.0344\t0.0328\n"
     ]
    },
    {
     "data": {
      "text/plain": [
       "<Container object of 4 artists>"
      ]
     },
     "execution_count": 97,
     "metadata": {},
     "output_type": "execute_result"
    },
    {
     "data": {
      "image/png": "[encoded data removed]",
      "text/plain": [
       "<matplotlib.figure.Figure at 0x7fd425ee67f0>"
      ]
     },
     "metadata": {},
     "output_type": "display_data"
    }
   ],
   "source": [
    "mean_sizes = []\n",
    "sizes_std = []\n",
    "for k in sorted(probs.keys()):\n",
    "    mean_sizes.append(np.mean(probs[k]))\n",
    "    sizes_std.append(np.std(probs[k]))\n",
    "    print(\"Beam size {}: probability covered: {:.4f}\\t{:.4f}\".format(k, np.mean(probs[k]), np.std(probs[k])))\n",
    "    \n",
    "X = [str(x) for x in sorted(probs.keys())]\n",
    "plt.bar(X, mean_sizes, yerr=sizes_std)"
   ]
  },
  {
   "cell_type": "code",
   "execution_count": 98,
   "metadata": {
    "nbpresent": {
     "id": "201a7cee-a750-42fa-a3d3-d9e6fac00609"
    }
   },
   "outputs": [
    {
     "name": "stdout",
     "output_type": "stream",
     "text": [
      "1\n",
      "2\n",
      "10\n",
      "100\n"
     ]
    },
    {
     "data": {
      "image/png": "[encoded data removed]",
      "text/plain": [
       "<matplotlib.figure.Figure at 0x7fd425e4be48>"
      ]
     },
     "metadata": {},
     "output_type": "display_data"
    }
   ],
   "source": [
    "base = plt.cm.get_cmap(plt.cm.jet)\n",
    "color_list = base(np.linspace(0, 1, len(probs.keys())))\n",
    "max_prob = np.max([np.max(ps) for ps in probs.values()]) + 0.03\n",
    "for k, color in zip(sorted(probs.keys()), color_list):\n",
    "    plt.hist(probs[k], bins=100, label=\"k={}\".format(k), color=color, histtype='step');\n",
    "    plt.hist(probs[k], bins=100, alpha=0.1, color=color);\n",
    "    \n",
    "    plt.yscale('log')\n",
    "    plt.xlim([0, max_prob])\n",
    "    print(k)\n",
    "plt.title(\"Distribution of total probabilty mass covered by the beam searches\")\n",
    "plt.legend()\n",
    "plt.savefig('../outputs/figs/total_probs_distribution.png', bbox_inches='tight')"
   ]
  },
  {
   "cell_type": "code",
   "execution_count": 119,
   "metadata": {
    "nbpresent": {
     "id": "0c1f9e64-f147-4c9e-878d-af2b3a9c0fbf"
    }
   },
   "outputs": [
    {
     "name": "stdout",
     "output_type": "stream",
     "text": [
      "0.947289156626506\n",
      "0.005505629073671736\n"
     ]
    }
   ],
   "source": [
    "# color_list = base(np.linspace(0, 1, len(probs.keys())))\n",
    "# max_prob = np.max([np.max(ps) for ps in probs.values()]) + 0.03\n",
    "# for k, color in zip(sorted(probs.keys()), color_list):\n",
    "#     plt.hist(probs[k], bins=100, label=\"k={}\".format(k), color=color, histtype='step', cumulative=True);\n",
    "#     plt.hist(probs[k], bins=100, alpha=0.1, color=color, cumulative=True);\n",
    "    \n",
    "# #     plt.yscale('log')\n",
    "#     plt.xlim([0, max_prob])\n",
    "#     print(k)\n",
    "    \n",
    "probs_100 = np.array(probs[100])\n",
    "print(sum(probs_100 < 0.1)/ len(probs_100))\n",
    "print(sum(probs_100 > 0.2) / len(probs_100))\n",
    "\n",
    "# plt.hist(probs_100, bins=100, cumulative=True, histtype='step', color='red');\n",
    "# plt.hist(probs_100, bins=100, alpha=0.1, cumulative=True, color='red');\n",
    "# # plt.yscale('log')"
   ]
  }
 ],
 "metadata": {
  "kernelspec": {
   "display_name": "Python 3",
   "language": "python",
   "name": "python3"
  },
  "language_info": {
   "codemirror_mode": {
    "name": "ipython",
    "version": 3
   },
   "file_extension": ".py",
   "mimetype": "text/x-python",
   "name": "python",
   "nbconvert_exporter": "python",
   "pygments_lexer": "ipython3",
   "version": "3.5.4"
  }
 },
 "nbformat": 4,
 "nbformat_minor": 2
}
