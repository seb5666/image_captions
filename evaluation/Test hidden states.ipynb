{
 "cells": [
  {
   "cell_type": "code",
   "execution_count": 23,
   "metadata": {},
   "outputs": [],
   "source": [
    "import json\n",
    "import numpy as np"
   ]
  },
  {
   "cell_type": "code",
   "execution_count": 24,
   "metadata": {},
   "outputs": [],
   "source": [
    "def load_caption(image_id, image_dir=\"../outputs/beam_captions/\"):\n",
    "    if type(image_id) == str:\n",
    "        filename = \"{}{}\".format(image_dir, image_id) \n",
    "    else:\n",
    "        filename = \"{}{}.json\".format(image_dir, image_id) \n",
    "    with open(filename, \"r\") as file:\n",
    "        return json.load(file)"
   ]
  },
  {
   "cell_type": "code",
   "execution_count": 25,
   "metadata": {},
   "outputs": [],
   "source": [
    "beam_captions = load_caption(111050, image_dir='../outputs/beam_captions_states/')\n",
    "print(len(beam_captions[cap]))"
   ]
  },
  {
   "cell_type": "code",
   "execution_count": 26,
   "metadata": {},
   "outputs": [
    {
     "name": "stdout",
     "output_type": "stream",
     "text": [
      "dict_keys(['total_prob', 'image_id', 'captions', 'probabilities'])\n"
     ]
    }
   ],
   "source": [
    "print(beam_captions.keys())"
   ]
  },
  {
   "cell_type": "code",
   "execution_count": 30,
   "metadata": {
    "scrolled": false
   },
   "outputs": [
    {
     "name": "stdout",
     "output_type": "stream",
     "text": [
      "12\n"
     ]
    }
   ],
   "source": [
    "hidden_states = np.array(beam_captions['captions'][0]['hidden_states'])\n",
    "print(len(beam_captions['captions'][0]['sentence']))"
   ]
  },
  {
   "cell_type": "code",
   "execution_count": 31,
   "metadata": {},
   "outputs": [
    {
     "name": "stdout",
     "output_type": "stream",
     "text": [
      "(12, 2, 512)\n",
      "[[-1.00000000e+00  6.91435798e-10 -1.00000000e+00 ... -1.33961061e-12\n",
      "   6.77305118e-23 -9.46114421e-01]\n",
      " [-7.61594176e-01  3.48888382e-15 -7.61593878e-01 ... -6.78599523e-20\n",
      "   4.18829510e-23 -5.88906936e-18]]\n"
     ]
    }
   ],
   "source": [
    "print(hidden_states.shape)\n",
    "print(hidden_states[0])"
   ]
  },
  {
   "cell_type": "code",
   "execution_count": null,
   "metadata": {},
   "outputs": [],
   "source": []
  }
 ],
 "metadata": {
  "kernelspec": {
   "display_name": "Python [conda env:python3]",
   "language": "python",
   "name": "conda-env-python3-py"
  },
  "language_info": {
   "codemirror_mode": {
    "name": "ipython",
    "version": 3
   },
   "file_extension": ".py",
   "mimetype": "text/x-python",
   "name": "python",
   "nbconvert_exporter": "python",
   "pygments_lexer": "ipython3",
   "version": "3.5.4"
  },
  "toc": {
   "nav_menu": {},
   "number_sections": true,
   "sideBar": true,
   "skip_h1_title": false,
   "toc_cell": false,
   "toc_position": {},
   "toc_section_display": "block",
   "toc_window_display": false
  }
 },
 "nbformat": 4,
 "nbformat_minor": 1
}
