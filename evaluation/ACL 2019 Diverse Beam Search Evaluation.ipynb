{
 "cells": [
  {
   "cell_type": "code",
   "execution_count": 42,
   "metadata": {},
   "outputs": [],
   "source": [
    "import os\n",
    "import pickle\n",
    "from nltk.translate import bleu_score"
   ]
  },
  {
   "cell_type": "markdown",
   "metadata": {},
   "source": [
    "# Load utils"
   ]
  },
  {
   "cell_type": "code",
   "execution_count": 39,
   "metadata": {},
   "outputs": [
    {
     "name": "stdout",
     "output_type": "stream",
     "text": [
      "word_to_idx\n",
      "idx_to_word\n",
      "Loaded dictionary...\n",
      "Dictionary size: 5004\n",
      "Error proccessing image_id: image_index\n",
      "Skipping file person_keypoints_train2014.json\n",
      "Skipping file instances_train2014.json\n",
      "Skipping file instances_val2014.json\n",
      "Skipping file person_keypoints_val2014.json\n",
      "Processed 40504 images\n",
      "Processed 40504 images\n"
     ]
    }
   ],
   "source": [
    "from utils import load_vocab, decode_caption, load_caption, rrv_votes, load_annotations, print_image\n",
    "\n",
    "vocab = load_vocab(dict_file = \"../../outputs/vocab/5000/coco2014_vocab.json\")\n",
    "image_id_to_index, index_to_image_id, annotations_dict = load_annotations(annotations_dir=\"../../annotations/\", \n",
    "                                                                          annotations_file='captions_val2014.json',\n",
    "                                                                          map_file = \"../../outputs/val_image_id_to_idx.csv\")\n",
    "print(\"Processed {} images\".format(len(image_id_to_index)))\n",
    "print(\"Processed {} images\".format(len(annotations_dict.keys())))\n",
    "\n",
    "annotations_list = [annotations_dict[image_id] for image_id in sorted(annotations_dict)]"
   ]
  },
  {
   "cell_type": "code",
   "execution_count": 54,
   "metadata": {},
   "outputs": [],
   "source": [
    "def load_best_beam_captions(beam_size):\n",
    "    file_name = '../../outputs/voted_captions/{}/best_beam.pickle'.format(beam_size)\n",
    "    with open(file_name, 'rb') as file:\n",
    "        best_beams = pickle.load(file)\n",
    "    return [decode_caption(best_beams[im_id], vocab) for im_id in sorted(best_beams)]"
   ]
  },
  {
   "cell_type": "markdown",
   "metadata": {},
   "source": [
    "# Load all beams and extract best for each caption"
   ]
  },
  {
   "cell_type": "code",
   "execution_count": 74,
   "metadata": {},
   "outputs": [],
   "source": [
    "def load_diverse_beam(diverse_beam_path):\n",
    "    with open(diverse_beam_path, 'rb') as file:\n",
    "        beams = pickle.load(file)\n",
    "    return beams\n",
    "\n",
    "def load_best_diverse_beams(beam_size):\n",
    "    best_beams = {}\n",
    "    beam_captions_dir = \"../../outputs/diverse_beam/diverse_{}/\".format(beam_size)\n",
    "    for beam_path in os.listdir(beam_captions_dir):\n",
    "        image_id = int(beam_path.split('.')[0])\n",
    "        beam = load_diverse_beam(os.path.join(beam_captions_dir, beam_path))\n",
    "        assert image_id == beam['image_id']\n",
    "        best_captions = decode_caption(beam['captions'][0], vocab)\n",
    "        best_beams[image_id] = best_captions\n",
    "    return best_beams"
   ]
  },
  {
   "cell_type": "markdown",
   "metadata": {},
   "source": [
    "## Compute Bleu score"
   ]
  },
  {
   "cell_type": "code",
   "execution_count": 82,
   "metadata": {},
   "outputs": [],
   "source": [
    "def bleu(best_beams):\n",
    "    filtered_annotations = []\n",
    "    captions = []\n",
    "    for k in best_beams.keys():\n",
    "        filtered_annotations.append(annotations_list[k])\n",
    "        captions.append(best_beams[k])\n",
    "    return bleu_score.corpus_bleu(filtered_annotations, captions)"
   ]
  },
  {
   "cell_type": "code",
   "execution_count": 83,
   "metadata": {},
   "outputs": [],
   "source": [
    "diverse_best_beams = load_best_diverse_beams(10)\n",
    "diverse_bleu = bleu(diverse_best_beams)"
   ]
  },
  {
   "cell_type": "code",
   "execution_count": 84,
   "metadata": {},
   "outputs": [],
   "source": [
    "best_beam = load_best_beam_captions(10)\n",
    "filtered_best_beam = {k: best_beam[k] for k in diverse_best_beams.keys()}\n",
    "beam_bleu = bleu(filtered_best_beam)"
   ]
  },
  {
   "cell_type": "code",
   "execution_count": 85,
   "metadata": {},
   "outputs": [
    {
     "name": "stdout",
     "output_type": "stream",
     "text": [
      "Diverse bleu 0.26893349633588554\n",
      "Beam bleu 0.27322415240348363\n"
     ]
    }
   ],
   "source": [
    "print(\"Diverse bleu\", diverse_bleu)\n",
    "print(\"Beam bleu\", beam_bleu)"
   ]
  },
  {
   "cell_type": "markdown",
   "metadata": {},
   "source": [
    "# Load best diverse beam captions"
   ]
  },
  {
   "cell_type": "code",
   "execution_count": 1,
   "metadata": {},
   "outputs": [],
   "source": [
    "# def load_diverse_beam_captions(beam_size):\n",
    "# #     beam_captions = {}\n",
    "# #     beam_captions_dir = \"../../outputs/beam_captions_{}/\".format(beam_size)\n",
    "# #     for image_id in sorted(annotations_dict):\n",
    "# #         caption_object = load_caption(image_id, image_dir=beam_captions_dir)\n",
    "# #         best_beam_caption = caption_object['captions'][0]['sentence']\n",
    "# #         beam_captions[image_id] = best_beam_caption\n",
    "# #     return beam_captions\n",
    "#     file_name = '../../outputs/voted_captions/{}/best_beam.pickle'.format(beam_size)\n",
    "# #     with open(file_name, 'wb') as file:\n",
    "# #         pickle.dump(beam_captions, file, pickle.HIGHEST_PROTOCOL)\n",
    "#     with open(file_name, 'rb') as file:\n",
    "#         best_beams = pickle.load(file)\n",
    "#     return [decode_caption(best_beams[im_id], vocab) for im_id in sorted(best_beams)]"
   ]
  },
  {
   "cell_type": "code",
   "execution_count": null,
   "metadata": {},
   "outputs": [],
   "source": []
  }
 ],
 "metadata": {
  "kernelspec": {
   "display_name": "Python [conda env:python3]",
   "language": "python",
   "name": "conda-env-python3-py"
  },
  "language_info": {
   "codemirror_mode": {
    "name": "ipython",
    "version": 3
   },
   "file_extension": ".py",
   "mimetype": "text/x-python",
   "name": "python",
   "nbconvert_exporter": "python",
   "pygments_lexer": "ipython3",
   "version": "3.5.4"
  },
  "toc": {
   "nav_menu": {},
   "number_sections": true,
   "sideBar": true,
   "skip_h1_title": false,
   "toc_cell": false,
   "toc_position": {},
   "toc_section_display": "block",
   "toc_window_display": false
  }
 },
 "nbformat": 4,
 "nbformat_minor": 2
}
