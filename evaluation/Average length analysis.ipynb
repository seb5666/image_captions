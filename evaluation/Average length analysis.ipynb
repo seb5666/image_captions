{
 "cells": [
  {
   "cell_type": "code",
   "execution_count": 3,
   "metadata": {},
   "outputs": [
    {
     "name": "stderr",
     "output_type": "stream",
     "text": [
      "/anaconda/envs/py35/lib/python3.5/site-packages/h5py/__init__.py:36: FutureWarning: Conversion of the second argument of issubdtype from `float` to `np.floating` is deprecated. In future, it will be treated as `np.float64 == np.dtype(float).type`.\n",
      "  from ._conv import register_converters as _register_converters\n"
     ]
    }
   ],
   "source": [
    "import os\n",
    "from utils import load_caption, decode_caption, load_vocab\n",
    "import pickle\n",
    "import numpy as np\n",
    "from matplotlib import pyplot as plt\n",
    "from tqdm import tqdm\n",
    "\n",
    "%matplotlib inline\n",
    "plt.style.use('ggplot')"
   ]
  },
  {
   "cell_type": "code",
   "execution_count": 4,
   "metadata": {},
   "outputs": [
    {
     "name": "stdout",
     "output_type": "stream",
     "text": [
      "idx_to_word\n",
      "word_to_idx\n",
      "Loaded dictionary...\n",
      "Dictionary size: 5004\n"
     ]
    }
   ],
   "source": [
    "vocab = load_vocab('/home/spb61/coco2014_vocab.json')"
   ]
  },
  {
   "cell_type": "code",
   "execution_count": 5,
   "metadata": {},
   "outputs": [],
   "source": [
    "def load_beam_lengths(k):\n",
    "    image_dir = \"/datadrive/val_beam_{}_states/\".format(k)\n",
    "    lengths = []\n",
    "    for image in tqdm(os.listdir(image_dir)):\n",
    "        cap = load_caption(image, image_dir=image_dir)\n",
    "        lengths.append(len(decode_caption(cap['captions'][0]['sentence'], vocab)))\n",
    "    print(\"Images found: {}\".format(len(lengths)))\n",
    "    return lengths"
   ]
  },
  {
   "cell_type": "code",
   "execution_count": 6,
   "metadata": {},
   "outputs": [],
   "source": [
    "# beam_lengths = {}\n",
    "# for k in [1,2,10,100]:\n",
    "#     lengths = load_beam_lengths(k)\n",
    "#     beam_lengths[k] = lengths\n",
    "\n",
    "# pickle.dump(beam_lengths, open('beam_lengths.pickle', 'wb'))\n",
    "\n",
    "beam_lengths = pickle.load(open('beam_lengths.pickle', 'rb'))\n"
   ]
  },
  {
   "cell_type": "code",
   "execution_count": 7,
   "metadata": {},
   "outputs": [
    {
     "name": "stdout",
     "output_type": "stream",
     "text": [
      "1 []\n",
      "0\n",
      "2 []\n",
      "0\n",
      "10 []\n",
      "0\n",
      "100 [   76    83   247   473   581   587   808   918   926  1247  2091  2669\n",
      "  3276  3383  3960  5172  5411  5548  6414  6705  7043  7312  7487  7805\n",
      "  8308  8842  9050  9340  9811 10594 10801 11841 12673 12754 13124 13494\n",
      " 13623 13624 14295 14600 15180 15752 15923 16334 16405 16672 16921 17278\n",
      " 17692 17871 18109 18719 19714 19744 20750 20823 21154 21425 21785 21853\n",
      " 21867 22032 22311 22744 23063 23535 23662 24053 24470 24477 24671 24729\n",
      " 25224 25961 25981 26129 26230 26372 26385 26387 26618 26663 26974 27659\n",
      " 27845 29052 29597 29598 29938 29990 30147 30917 31266 31409 31928 32017\n",
      " 32078 32276 32441 32584 32859 32995 33722 33890 34224 35121 35303 36085\n",
      " 36365 36620 37677 37801 38238 38349 38505 38947 38970 39007 39071 39225\n",
      " 39455 40054 40092]\n",
      "123\n",
      "[8.406478372506418, 8.788169069721508, 9.183562117321745, 9.109717558759629]\n"
     ]
    }
   ],
   "source": [
    "# print(beam_lengths.keys())\n",
    "for k in sorted(beam_lengths.keys()):\n",
    "    l = np.array(beam_lengths[k])\n",
    "#     print(np.mean(l))\n",
    "    zeroes = np.where(l == 0)[0]\n",
    "    print(k, zeroes)\n",
    "    print(len(zeroes))\n",
    "average_beam_lengths = [np.mean(np.array(beam_lengths[k])) for k in [1,2,10,100]]"
   ]
  },
  {
   "cell_type": "code",
   "execution_count": 8,
   "metadata": {},
   "outputs": [],
   "source": [
    "def average_length(voted_pickle_file):\n",
    "    with open(voted_pickle_file, 'rb') as handle:\n",
    "        voted_captions = pickle.load(handle)\n",
    "    lengths = []\n",
    "    for caption in voted_captions.values():\n",
    "        best_caption = decode_caption(caption[0][0], vocab)\n",
    "        lengths.append(len(best_caption))\n",
    "    print(\"Average length: {}\\t std: {}\".format(np.mean(lengths), np.std(lengths)))\n",
    "    return np.mean(lengths), np.std(lengths)"
   ]
  },
  {
   "cell_type": "code",
   "execution_count": 15,
   "metadata": {},
   "outputs": [
    {
     "name": "stdout",
     "output_type": "stream",
     "text": [
      "[8.406478372506418, 8.788169069721508, 9.183562117321745, 9.109717558759629]\n"
     ]
    }
   ],
   "source": [
    "print(average_beam_lengths)"
   ]
  },
  {
   "cell_type": "code",
   "execution_count": 9,
   "metadata": {},
   "outputs": [
    {
     "name": "stdout",
     "output_type": "stream",
     "text": [
      "Average length: 8.406478372506418\t std: 2.191467910709649\n",
      "Average length: 9.090460201461584\t std: 1.7584939166161317\n",
      "Average length: 9.323671736124828\t std: 1.4712387101932882\n",
      "Average length: 8.807549871617619\t std: 2.7969628997897344\n"
     ]
    }
   ],
   "source": [
    "hidden_lengths = []\n",
    "for k in [1,2,10,100]:\n",
    "    mean_length, std = average_length('../outputs/vote_captions_{}_hidden.pickle'.format(k))\n",
    "    hidden_lengths.append(mean_length)"
   ]
  },
  {
   "cell_type": "code",
   "execution_count": 10,
   "metadata": {},
   "outputs": [
    {
     "name": "stdout",
     "output_type": "stream",
     "text": [
      "Average length: 8.406478372506418\t std: 2.191467910709649\n",
      "Average length: 9.215929290934229\t std: 1.6575341848378318\n",
      "Average length: 10.397096583053525\t std: 1.346635907652899\n",
      "Average length: 11.194425241951413\t std: 1.4140381122258314\n"
     ]
    }
   ],
   "source": [
    "unigram_overlap_lengths = []\n",
    "for k in [1,2,10,100]:\n",
    "    mean_length, std = average_length('../outputs/vote_captions_{}_unigram_overlap.pickle'.format(k))\n",
    "    unigram_overlap_lengths.append(mean_length)"
   ]
  },
  {
   "cell_type": "code",
   "execution_count": 11,
   "metadata": {},
   "outputs": [
    {
     "name": "stdout",
     "output_type": "stream",
     "text": [
      "Average length: 8.406478372506418\t std: 2.191467910709649\n",
      "Average length: 9.20684376851669\t std: 1.6583649705514831\n",
      "Average length: 10.37586411218645\t std: 1.3573437679477391\n",
      "Average length: 11.149269207979458\t std: 1.4356593864846516\n"
     ]
    }
   ],
   "source": [
    "unigram_precision_lengths = []\n",
    "for k in [1,2,10,100]:\n",
    "    mean_length, std = average_length('../outputs/vote_captions_{}_unigram_precision.pickle'.format(k))\n",
    "    unigram_precision_lengths.append(mean_length)"
   ]
  },
  {
   "cell_type": "code",
   "execution_count": 12,
   "metadata": {},
   "outputs": [
    {
     "name": "stdout",
     "output_type": "stream",
     "text": [
      "Average length: 8.406478372506418\t std: 2.191467910709649\n",
      "Average length: 8.961682796760813\t std: 1.6488653537759825\n",
      "Average length: 9.860087892553821\t std: 1.3596543083504866\n",
      "Average length: 10.54589670156034\t std: 1.4964461656203425\n"
     ]
    }
   ],
   "source": [
    "bigram_precision_lengths = []\n",
    "for k in [1,2,10,100]:\n",
    "    mean_length, std = average_length('../outputs/vote_captions_{}_bigram_precision.pickle'.format(k))\n",
    "    bigram_precision_lengths.append(mean_length)"
   ]
  },
  {
   "cell_type": "code",
   "execution_count": 13,
   "metadata": {},
   "outputs": [
    {
     "name": "stdout",
     "output_type": "stream",
     "text": [
      "Average length: 8.406478372506418\t std: 2.191467910709649\n",
      "Average length: 8.961855619198104\t std: 1.6497001664657547\n",
      "Average length: 9.862408650997432\t std: 1.3585106333498342\n",
      "Average length: 10.54631641319376\t std: 1.4947659555666257\n"
     ]
    }
   ],
   "source": [
    "bigram_overlap_lengths = []\n",
    "for k in [1,2,10,100]:\n",
    "    mean_length, std = average_length('../outputs/vote_captions_{}_bigram_overlap.pickle'.format(k))\n",
    "    bigram_overlap_lengths.append(mean_length)"
   ]
  },
  {
   "cell_type": "code",
   "execution_count": 14,
   "metadata": {},
   "outputs": [
    {
     "data": {
      "image/png": "[encoded data removed]",
      "text/plain": [
       "<matplotlib.figure.Figure at 0x7f415d3c9be0>"
      ]
     },
     "metadata": {},
     "output_type": "display_data"
    }
   ],
   "source": [
    "# TODO: WHY IS THE OUTPUT LENGTH WHEN k=1 not equal everywhere...\n",
    "\n",
    "X = [1,2,10,100]\n",
    "plt.plot(X, average_beam_lengths, 'x-', label='Beam')\n",
    "plt.plot(X, hidden_lengths, 'x-', label='Average hidden vector')\n",
    "plt.plot(X, unigram_overlap_lengths, 'x-', label='Unigram overlap')\n",
    "plt.plot(X, unigram_precision_lengths, 'x-', label='Unigram precision')\n",
    "plt.plot(X, bigram_precision_lengths, 'x-', label='Bigram precision')\n",
    "plt.plot(X, bigram_overlap_lengths, 'x-', label='Bigram overlap')\n",
    "plt.xscale('log')\n",
    "plt.title(\"Average lengths of generated captions\")\n",
    "plt.xlabel(\"Beam size\")\n",
    "plt.ylabel(\"Average caption length\")\n",
    "plt.legend()\n",
    "plt.savefig('../outputs/figs/average_lengths.png', bbox_inches='tight')"
   ]
  },
  {
   "cell_type": "code",
   "execution_count": 14,
   "metadata": {},
   "outputs": [
    {
     "name": "stdout",
     "output_type": "stream",
     "text": [
      "\u001b[0m\u001b[01;34mfigs\u001b[0m/\r\n",
      "model1.0.ckpt.data-00000-of-00001\r\n",
      "model1.0.ckpt.index\r\n",
      "model1.0.ckpt.meta\r\n",
      "vote_captions_100_bigram_overlap.pickle\r\n",
      "vote_captions_100_bigram_precision.pickle\r\n",
      "vote_captions_100_hidden.pickle\r\n",
      "vote_captions_100_unigram_overlap.pickle\r\n",
      "vote_captions_100_unigram_precision.pickle\r\n",
      "vote_captions_10_bigram_overlap.pickle\r\n",
      "vote_captions_10_bigram_precision.pickle\r\n",
      "vote_captions_10_hidden.pickle\r\n",
      "vote_captions_10_unigram_overlap.pickle\r\n",
      "vote_captions_10_unigram_precision.pickle\r\n",
      "vote_captions_1_bigram_overlap.pickle\r\n",
      "vote_captions_1_bigram_precision.pickle\r\n",
      "vote_captions_1_hidden.pickle\r\n",
      "vote_captions_1_unigram_overlap.pickle\r\n",
      "vote_captions_1_unigram_precision.pickle\r\n",
      "vote_captions_2_bigram_overlap.pickle\r\n",
      "vote_captions_2_bigram_precision.pickle\r\n",
      "vote_captions_2_hidden.pickle\r\n",
      "vote_captions_2_unigram_overlap.pickle\r\n",
      "vote_captions_2_unigram_precision.pickle\r\n",
      "vote_captions.pickle\r\n"
     ]
    }
   ],
   "source": [
    "ls ../outputs/"
   ]
  },
  {
   "cell_type": "markdown",
   "metadata": {},
   "source": [
    "# T-test between caption lengths"
   ]
  },
  {
   "cell_type": "code",
   "execution_count": 16,
   "metadata": {},
   "outputs": [
    {
     "name": "stdout",
     "output_type": "stream",
     "text": [
      "Average length: 10.54589670156034\t std: 1.4964461656203425\n"
     ]
    }
   ],
   "source": [
    "voted_captions = pickle.load(open('../outputs/vote_captions_100_bigram_precision.pickle', 'rb'))\n",
    "vote_lengths = []\n",
    "\n",
    "for caption in voted_captions.values():\n",
    "    best_caption = decode_caption(caption[0][0], vocab)\n",
    "    vote_lengths.append(len(best_caption))\n",
    "print(\"Average length: {}\\t std: {}\".format(np.mean(vote_lengths), np.std(vote_lengths)))"
   ]
  },
  {
   "cell_type": "code",
   "execution_count": 22,
   "metadata": {},
   "outputs": [
    {
     "name": "stderr",
     "output_type": "stream",
     "text": [
      " 48%|████▊     | 19494/40504 [29:53<32:12, 10.87it/s] IOPub message rate exceeded.\n",
      "The notebook server will temporarily stop sending output\n",
      "to the client in order to avoid crashing it.\n",
      "To change this limit, set the config variable\n",
      "`--NotebookApp.iopub_msg_rate_limit`.\n",
      "\n",
      "Current values:\n",
      "NotebookApp.iopub_msg_rate_limit=1000.0 (msgs/sec)\n",
      "NotebookApp.rate_limit_window=3.0 (secs)\n",
      "\n",
      "100%|██████████| 40504/40504 [1:09:22<00:00,  9.73it/s]"
     ]
    },
    {
     "name": "stdout",
     "output_type": "stream",
     "text": [
      "Images found: 40504\n"
     ]
    },
    {
     "name": "stderr",
     "output_type": "stream",
     "text": [
      "\n"
     ]
    }
   ],
   "source": [
    "from scipy.stats import ttest_ind\n",
    "\n",
    "test_res = ttest_ind(vote_lengths, load_beam_lengths(100) )"
   ]
  },
  {
   "cell_type": "code",
   "execution_count": 27,
   "metadata": {},
   "outputs": [
    {
     "data": {
      "text/plain": [
       "Ttest_indResult(statistic=150.3519243779059, pvalue=0.0)"
      ]
     },
     "execution_count": 27,
     "metadata": {},
     "output_type": "execute_result"
    }
   ],
   "source": [
    "test_res"
   ]
  },
  {
   "cell_type": "code",
   "execution_count": null,
   "metadata": {},
   "outputs": [],
   "source": []
  }
 ],
 "metadata": {
  "kernelspec": {
   "display_name": "Python 3",
   "language": "python",
   "name": "python3"
  },
  "language_info": {
   "codemirror_mode": {
    "name": "ipython",
    "version": 3
   },
   "file_extension": ".py",
   "mimetype": "text/x-python",
   "name": "python",
   "nbconvert_exporter": "python",
   "pygments_lexer": "ipython3",
   "version": "3.5.4"
  }
 },
 "nbformat": 4,
 "nbformat_minor": 2
}
